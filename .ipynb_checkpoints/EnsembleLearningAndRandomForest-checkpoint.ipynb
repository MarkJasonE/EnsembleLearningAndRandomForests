{
 "cells": [
  {
   "cell_type": "code",
   "execution_count": 13,
   "metadata": {},
   "outputs": [],
   "source": [
    "import os\n",
    "import numpy as np\n",
    "from sklearn.datasets import make_moons\n",
    "from sklearn.model_selection import train_test_split\n",
    "from sklearn.linear_model import LogisticRegression\n",
    "from sklearn.ensemble import RandomForestClassifier, VotingClassifier, BaggingClassifier\n",
    "from sklearn.svm import SVC\n",
    "from sklearn.tree import DecisionTreeClassifier\n",
    "from sklearn.metrics import accuracy_score\n",
    "import matplotlib as mpl\n",
    "import matplotlib.pyplot as plt\n",
    "from matplotlib.colors import ListedColormap\n",
    "\n",
    "#To make the notebook's output stabel across runs\n",
    "np.random.seed(42)\n",
    "\n",
    "#Uses Jupyter's own backend to plot\n",
    "%matplotlib inline\n",
    "\n",
    "#To make pretty figures\n",
    "mpl.rc(\"axes\", labelsize=14)\n",
    "mpl.rc(\"xtick\", labelsize=12)\n",
    "mpl.rc(\"ytick\", labelsize=12)\n",
    "\n",
    "#Path to saving images\n",
    "IMAGE_PATH = os.path.join(\"images\")\n",
    "os.makedirs(IMAGE_PATH, exist_ok=True)\n",
    "\n",
    "def save_fig(fig_id, tight_layout=True, fig_extension=\"png\", resolution=300):\n",
    "    path = os.path.join(IMAGE_PATH, fig_id + \".\" + fig_extension)\n",
    "    print(\"Saving figure\", fig_id)\n",
    "    if tight_layout:\n",
    "        plt.tight_layout()\n",
    "    plt.savefig(path, format=fig_extension ,dpi=resolution)"
   ]
  },
  {
   "cell_type": "markdown",
   "metadata": {},
   "source": [
    "***Ensemble Learning*** is a technique where you take a group of predictors (such as classifiers and regressors) and you aggregate their predictions, which is most often better than an individual predictor.\n",
    "\n",
    "A group of predictors is called an ***ensemble***<br>\n",
    "An Ensemble Learning algorithm is called an ***Ensemble method***"
   ]
  },
  {
   "cell_type": "markdown",
   "metadata": {},
   "source": [
    "An example of **Ensemble method**: train a group of Decision Tree classifiers, each on a different random subset of the training set. To make the predictions, you obtain the predictions of all the individual trees, then predict the class that gets the most votes. Such an ensemble of Decision Trees is called a ***Random Forest***, as simply as it may sound, it's one of the most powerful Machine Learning algorithms available today"
   ]
  },
  {
   "cell_type": "markdown",
   "metadata": {},
   "source": [
    "**When should I use an Esemble method?**\n",
    "\n",
    "It's often used near the end of a project, once a few good predictors have been built, combine them into an even better predictor"
   ]
  },
  {
   "cell_type": "markdown",
   "metadata": {},
   "source": [
    "We will cover the most popular **Ensemble methods**, _bagging_, _boosting_ and _stacking_"
   ]
  },
  {
   "cell_type": "markdown",
   "metadata": {},
   "source": [
    "# Section: Voting Classifiers"
   ]
  },
  {
   "cell_type": "markdown",
   "metadata": {},
   "source": [
    "***Hard voting*** is when you aggregate the predictions of several classifiers and predict the class that get the most votes (a majority vote classifier)"
   ]
  },
  {
   "cell_type": "markdown",
   "metadata": {},
   "source": [
    "This voting classifier often achieves a higher accuracy than the best calssifier in the ensemble. Even if each classifier is a ***weak learner*** (it does slightly better than random guessing), the ensemble can still be a ***strong learner*** (achieving high accuracy), provided there are a sufficent number of weak learners and they're sufficiently diverse"
   ]
  },
  {
   "cell_type": "markdown",
   "metadata": {},
   "source": [
    "**Ensemble methods**  work best when the predictors are as independent from one another as possible. One way to get diverse classifiers is to train them using very different algorithms. This increases the chance that they will make very different types of errors, improving the ensemble's accuracy"
   ]
  },
  {
   "cell_type": "markdown",
   "metadata": {},
   "source": [
    "Let's create and train a voting classifier (**hard voting**), composed of three diverse classifiers"
   ]
  },
  {
   "cell_type": "markdown",
   "metadata": {},
   "source": [
    "<img src=\"images/Ensemble and RF - Hard voting classifier predictions.png\">"
   ]
  },
  {
   "cell_type": "code",
   "execution_count": 2,
   "metadata": {},
   "outputs": [],
   "source": [
    "X, y = make_moons(n_samples=500, noise=0.3, random_state=42)\n",
    "X_train, X_test, y_train, y_test = train_test_split(X, y, test_size=0.2,\n",
    "                                                    random_state=42)\n"
   ]
  },
  {
   "cell_type": "code",
   "execution_count": 3,
   "metadata": {},
   "outputs": [],
   "source": [
    "log_clf_hardv = LogisticRegression(solver=\"lbfgs\", random_state=42)\n",
    "rnd_clf_hardv = RandomForestClassifier(n_estimators=100, random_state=42)\n",
    "svm_clf_hardv = SVC(gamma=\"scale\", random_state=42)\n",
    "\n",
    "voting_clf_hardv = VotingClassifier(\n",
    "    estimators = [(\"lr\", log_clf_hardv), (\"rf\", rnd_clf_hardv), \n",
    "                  (\"svc\", svm_clf_hardv)],\n",
    "    voting = \"hard\"\n",
    ")"
   ]
  },
  {
   "cell_type": "code",
   "execution_count": 4,
   "metadata": {},
   "outputs": [
    {
     "data": {
      "text/plain": [
       "VotingClassifier(estimators=[('lr', LogisticRegression(random_state=42)),\n",
       "                             ('rf', RandomForestClassifier(random_state=42)),\n",
       "                             ('svc', SVC(random_state=42))])"
      ]
     },
     "execution_count": 4,
     "metadata": {},
     "output_type": "execute_result"
    }
   ],
   "source": [
    "voting_clf_hardv.fit(X_train, y_train)"
   ]
  },
  {
   "cell_type": "code",
   "execution_count": 5,
   "metadata": {},
   "outputs": [
    {
     "name": "stdout",
     "output_type": "stream",
     "text": [
      "LogisticRegression 0.85\n",
      "RandomForestClassifier 0.88\n",
      "SVC 0.87\n",
      "VotingClassifier 0.87\n"
     ]
    }
   ],
   "source": [
    "for clf in (log_clf_hardv, rnd_clf_hardv, svm_clf_hardv, voting_clf_hardv):\n",
    "    clf.fit(X_train, y_train)\n",
    "    y_pred = clf.predict(X_test)\n",
    "    print(clf.__class__.__name__, accuracy_score(y_test, y_pred))"
   ]
  },
  {
   "cell_type": "markdown",
   "metadata": {},
   "source": [
    "***Soft voting*** is when you predict the class with the highest class probabilty, averaged over all the individual classifiers. Assuming that all classifiers are able to estimate class probablities - they have the _predict_proba()_ method\n",
    "\n",
    "It often achieves a higher performance than hard voting beause it gives more weight to highly confident votes"
   ]
  },
  {
   "cell_type": "markdown",
   "metadata": {},
   "source": [
    "Let's create and train a voting classifier(**soft voting**), composed of three diverse classifiers\n",
    "\n",
    "**Note** SVC doesn't have the _predict_proba()_ method by default, so we need to set _probability=True_ hyperparameter (this makes SVC use cross validation to estimate class probabilities, slowing down training), then it will add a _predict proba()_ method"
   ]
  },
  {
   "cell_type": "code",
   "execution_count": 6,
   "metadata": {},
   "outputs": [
    {
     "data": {
      "text/plain": [
       "VotingClassifier(estimators=[('lr', LogisticRegression(random_state=42)),\n",
       "                             ('rf', RandomForestClassifier(random_state=42)),\n",
       "                             ('svm', SVC(probability=True, random_state=42))],\n",
       "                 voting='soft')"
      ]
     },
     "execution_count": 6,
     "metadata": {},
     "output_type": "execute_result"
    }
   ],
   "source": [
    "log_clf_softv = LogisticRegression(solver=\"lbfgs\", random_state=42)\n",
    "rnd_clf_softv = RandomForestClassifier(n_estimators=100, random_state=42)\n",
    "svm_clf_softv = SVC(gamma=\"scale\", probability=True, random_state=42)\n",
    "\n",
    "voting_clf_softv = VotingClassifier(\n",
    "    estimators = [(\"lr\", log_clf_softv), (\"rf\", rnd_clf_softv), \n",
    "                  (\"svm\", svm_clf_softv)],\n",
    "    voting = \"soft\"\n",
    ")\n",
    "voting_clf_softv.fit(X_train, y_train)"
   ]
  },
  {
   "cell_type": "code",
   "execution_count": 7,
   "metadata": {},
   "outputs": [
    {
     "name": "stdout",
     "output_type": "stream",
     "text": [
      "LogisticRegression 0.85\n",
      "RandomForestClassifier 0.88\n",
      "SVC 0.87\n",
      "VotingClassifier 0.89\n"
     ]
    }
   ],
   "source": [
    "for clf in (log_clf_softv, rnd_clf_softv, svm_clf_softv, voting_clf_softv):\n",
    "    clf.fit(X_train, y_train)\n",
    "    y_pred = clf.predict(X_test)\n",
    "    print(clf.__class__.__name__, accuracy_score(y_test, y_pred))"
   ]
  },
  {
   "cell_type": "markdown",
   "metadata": {},
   "source": [
    "As we can see it achieved a higher accuracy, 89% (87% for **hard voting**)"
   ]
  },
  {
   "cell_type": "markdown",
   "metadata": {},
   "source": [
    "# End Of Section: Voting Classifiers"
   ]
  },
  {
   "cell_type": "code",
   "execution_count": null,
   "metadata": {},
   "outputs": [],
   "source": []
  },
  {
   "cell_type": "code",
   "execution_count": null,
   "metadata": {},
   "outputs": [],
   "source": []
  },
  {
   "cell_type": "markdown",
   "metadata": {},
   "source": [
    "# Section: Bagging And Pasting"
   ]
  },
  {
   "cell_type": "markdown",
   "metadata": {},
   "source": [
    "We've just seen that in order to get a diverse set of classifiers, we need different algorithms. Another approach is to use the same training algorithm for every predictor (e.g classifier) and train them on different random subsets of the training set\n",
    "\n",
    "When sampling is performed ***with replacement***, it's ***called bagging*** (short for bootstrap aggregating). When sampling is performed ***without replacement***, it's ***called pasting***"
   ]
  },
  {
   "cell_type": "markdown",
   "metadata": {},
   "source": [
    "That is, both bagging and pasting allow training instances to be sampled several times across multiple predictors, but only bagging allows training instances to be sampled several times for the same predictor"
   ]
  },
  {
   "cell_type": "markdown",
   "metadata": {},
   "source": [
    "<img src=\"images/Ensemble and RF - Bagging and pasting on different random samples.png\">"
   ]
  },
  {
   "cell_type": "markdown",
   "metadata": {},
   "source": [
    "After all the classifiers are trained, the ensemble can make a prediction for a new instace by aggregating the predictions of all classifiers. The aggregation functions is typically **the _statistical mode_ (the most frequent prediction, just like a hard voting classifier) for classification, or the average for regression.**\n",
    "\n",
    "**Each individual predictor** has **a higher bias** than if it were trained on the original training set, but **aggregation reduces both bias and variance.** Generally, the net result is that the **ensemble has a similar bias but a lower variance than a single predictor**\n",
    "\n",
    "Bagging and pasting **scale very well** - predictors can all be **trained and made in parallel**"
   ]
  },
  {
   "cell_type": "markdown",
   "metadata": {},
   "source": [
    "##### Bagging and pasting in Scikit Learn"
   ]
  },
  {
   "cell_type": "markdown",
   "metadata": {},
   "source": [
    "We'll create an ensemble of 500 Decision Tree classifiers: \n",
    "<ul>\n",
    "    <li>Each is trained on 100 training instances randomly sampled for the training set with replacement (example of <strong>bagging</strong>, set <em>bootstrap=False</em> for <strong>pasting</strong>)</li>\n",
    "    <li>The <em>n_jobs</em> indicates the number of CPU cores to use for training and predictions (-1 tells Scikit Learn to use all cores)</li>\n",
    "</ul>\n",
    "\n",
    "The _BagginClassifier_ automatically performs soft voting instead of hard voting if the base classifier can estimate class probabilities (if it has _predict_proba()_), which is the case for with Decision Tree classifiers"
   ]
  },
  {
   "cell_type": "code",
   "execution_count": 11,
   "metadata": {},
   "outputs": [
    {
     "data": {
      "text/plain": [
       "0.9"
      ]
     },
     "execution_count": 11,
     "metadata": {},
     "output_type": "execute_result"
    }
   ],
   "source": [
    "bag_clf = BaggingClassifier(\n",
    "    DecisionTreeClassifier(random_state=42), n_estimators=500, max_samples=100,\n",
    "    n_jobs=-1, bootstrap=True, random_state=42\n",
    ")\n",
    "bag_clf.fit(X_train, y_train)\n",
    "y_pred = bag_clf.predict(X_test)\n",
    "accuracy_score(y_test, y_pred)"
   ]
  },
  {
   "cell_type": "code",
   "execution_count": 12,
   "metadata": {},
   "outputs": [
    {
     "data": {
      "text/plain": [
       "0.82"
      ]
     },
     "execution_count": 12,
     "metadata": {},
     "output_type": "execute_result"
    }
   ],
   "source": [
    "tree_clf = DecisionTreeClassifier(random_state=42)\n",
    "tree_clf.fit(X_train, y_train)\n",
    "y_pred = tree_clf.predict(X_test)\n",
    "accuracy_score(y_test, y_pred)"
   ]
  },
  {
   "cell_type": "markdown",
   "metadata": {},
   "source": [
    "We'll compare the decision boundaries of a single Decision Tree with that of a bagging ensemble of 500 trees. \n",
    "\n",
    "The folloing plot shows that the ensemble will most likely generalize better: it has a comparable bias but a smaller variance (it has roughly the same number of errors, but the decision boundary is less irregular)"
   ]
  },
  {
   "cell_type": "code",
   "execution_count": 20,
   "metadata": {},
   "outputs": [],
   "source": [
    "def plot_decision_boundary(clf, X, y, axes=[-1.5, 2.45, -1, 1.5], alpha=0.5,\n",
    "                           contour=True):\n",
    "    x1s = np.linspace(axes[0], axes[1], 100) \n",
    "    x2s = np.linspace(axes[2], axes[3], 100)\n",
    "    x1, x2 = np.meshgrid(x1s, x2s)\n",
    "    X_new = np.c_[x1.ravel(), x2.ravel()]\n",
    "    y_pred = clf.predict(X_new).reshape(x1.shape)\n",
    "    custom_map = ListedColormap(['#fafab0','#9898ff','#a0faa0'])\n",
    "    plt.contourf(x1, x2, y_pred, alpha=0.3, cmap=custom_map)\n",
    "    if contour:\n",
    "        custom_map2 = ListedColormap(['#7d7d58','#4c4c7f','#507d50'])\n",
    "        plt.contour(x1, x2, y_pred, alpha=0.8, cmap=custom_map2)\n",
    "    plt.plot(X[:, 0][y==0], X[:, 1][y==0], \"yo\", alpha=alpha)\n",
    "    plt.plot(X[:, 0][y==1], X[:, 1][y==1], \"bs\", alpha=alpha)\n",
    "    plt.axis(axes)\n",
    "    plt.xlabel(r\"$x_1$\", fontsize=16)\n",
    "    plt.ylabel(r\"$x_2$\", rotation=0, fontsize=16)\n"
   ]
  },
  {
   "cell_type": "code",
   "execution_count": 21,
   "metadata": {},
   "outputs": [
    {
     "name": "stdout",
     "output_type": "stream",
     "text": [
      "Saving figure Ensemble and RF - Decision tree vs bagging ensemble of 500 trees\n"
     ]
    },
    {
     "data": {
      "image/png": "[encoded data removed]",
      "text/plain": [
       "<Figure size 720x288 with 2 Axes>"
      ]
     },
     "metadata": {
      "needs_background": "light"
     },
     "output_type": "display_data"
    },
    {
     "name": "stdout",
     "output_type": "stream",
     "text": [
      "Figure 7-5\n"
     ]
    }
   ],
   "source": [
    "fig, axes = plt.subplots(ncols=2, figsize=(10, 4), sharey=True)\n",
    "plt.sca(axes[0])\n",
    "plot_decision_boundary(tree_clf, X, y)\n",
    "plt.title(\"Decision Tree\", fontsize=18)\n",
    "plt.sca(axes[1])\n",
    "plot_decision_boundary(bag_clf, X, y)\n",
    "plt.title(\"Decision Tree With Bagging\", fontsize=18)\n",
    "plt.ylabel(\"\")\n",
    "\n",
    "save_fig(\"Ensemble and RF - Decision tree vs bagging ensemble of 500 trees\")\n",
    "plt.show()\n",
    "print(\"Figure 7-5\")"
   ]
  },
  {
   "cell_type": "markdown",
   "metadata": {},
   "source": [
    "Bootstraping introduces a bit more diversity in the subsets that each predictor is trained on, thus bagging ends up with a slightly higher bias that pasting; but the extra diversity also means that the predictors end up being less correlated, to the ensemble's variance is reduced.\n",
    "\n",
    "Overall, bagging results in better model. However, if you have spare time and CPU power, you can use cross validation to evaluate both bagging and pasting then select the one that works best"
   ]
  },
  {
   "cell_type": "markdown",
   "metadata": {},
   "source": [
    "##### Out-of-bag evaluation"
   ]
  },
  {
   "cell_type": "code",
   "execution_count": null,
   "metadata": {},
   "outputs": [],
   "source": []
  }
 ],
 "metadata": {
  "kernelspec": {
   "display_name": "HO_EnsembleAndRandomForest",
   "language": "python",
   "name": "ho_ensembleandrfenv"
  },
  "language_info": {
   "codemirror_mode": {
    "name": "ipython",
    "version": 3
   },
   "file_extension": ".py",
   "mimetype": "text/x-python",
   "name": "python",
   "nbconvert_exporter": "python",
   "pygments_lexer": "ipython3",
   "version": "3.8.5"
  }
 },
 "nbformat": 4,
 "nbformat_minor": 4
}
